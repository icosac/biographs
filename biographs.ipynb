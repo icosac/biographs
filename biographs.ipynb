{
 "cells": [
  {
   "cell_type": "code",
   "execution_count": null,
   "metadata": {},
   "outputs": [],
   "source": [
    "from protein import Protein"
   ]
  },
  {
   "cell_type": "code",
   "execution_count": null,
   "metadata": {},
   "outputs": [],
   "source": [
    "import numpy as np\n",
    "import pandas as pd\n",
    "import holoviews as hv\n",
    "import networkx as nx\n",
    "from holoviews import opts\n",
    "\n",
    "hv.extension('bokeh')\n",
    "\n",
    "defaults = dict(width=400, height=400)\n",
    "hv.opts.defaults(opts.EdgePaths(**defaults), opts.Graph(**defaults), opts.Nodes(**defaults))"
   ]
  },
  {
   "cell_type": "code",
   "execution_count": null,
   "metadata": {},
   "outputs": [],
   "source": [
    "N = 8\n",
    "node_indices = np.arange(N, dtype=np.int32)\n",
    "source = np.zeros(N, dtype=np.int32)\n",
    "target = node_indices\n",
    "\n",
    "print(source)\n",
    "print(target)\n",
    "\n",
    "simple_graph = hv.Graph(((source, target),))\n",
    "simple_graph.opts(inspection_policy='edges')"
   ]
  },
  {
   "cell_type": "code",
   "execution_count": 1,
   "metadata": {},
   "outputs": [],
   "source": [
    "from ipywidgets import widgets\n",
    "from IPython.display import display, clear_output\n",
    "from protein import *\n",
    "from link import *\n",
    "import graph\n",
    "\n",
    "graph_title=widgets.Text(description=\"Title:\")\n",
    "\n",
    "def printL(l):\n",
    "    print(\"[\", end=\"\")\n",
    "    for e in l:\n",
    "        print(str(e), end=\", \")\n",
    "    print(\"]\")\n",
    "    \n",
    "mygraph=graph.GraphLib()\n",
    "\n",
    "choice_w=widgets.Dropdown(options=[\n",
    "    (\"Add protein\", 1), \n",
    "    (\"Add link\", 2), \n",
    "    (\"Remove protein\", 3), \n",
    "    (\"Remove link\", 4),\n",
    "    (\"List proteins\", 5),\n",
    "    (\"List links\", 6),\n",
    "    (\"List proteins and links\", 7),\n",
    "    (\"Save graph as image\", 8),\n",
    "    (\"Export graph to file\", 9),\n",
    "    (\"Recover from file\", 10)], value=1)\n",
    "text_p_name=widgets.Text(description=\"Name: \")\n",
    "text_description=widgets.Text(description=\"Description: \")\n",
    "color_w=widgets.ColorPicker(concise=False, value=\"black\", description=\"Color: \")\n",
    "text_p1_link=widgets.Dropdown(options=sorted(mygraph.proteins), description=\"From: \")\n",
    "text_p2_link=widgets.Dropdown(options=sorted(mygraph.proteins), description=\"To: \")\n",
    "dropdown_proteins=widgets.Dropdown(options=sorted(mygraph.proteins), description=\"Name: \")\n",
    "button_w=widgets.Button(icon=\"check\", description=\"Save\")\n",
    "button_remove_w=widgets.Button(icon=\"times\", description=\"Remove\")\n",
    "widgetsL=[choice_w, text_p_name, text_description, color_w, text_p1_link, text_p2_link, dropdown_proteins, button_w, button_remove_w]\n",
    "\n",
    "#Function called when the value of choose_w is changed\n",
    "def on_change(change):\n",
    "    if change['name']=='value':\n",
    "        choose_action()\n",
    "\n",
    "#Function called when the button is pressed to add link or protein\n",
    "def on_click_warning(click):\n",
    "    if choice_w.value==3:\n",
    "        rm_p=find_protein(mygraph.proteins, dropdown_proteins.value)\n",
    "        if rm_p not in proteins:\n",
    "            print(\"\\033[91mProtein \"+str(dropdown_proteins.value)+\" not in proteins list.\\033[0m\")\n",
    "            choose_action()\n",
    "        else:\n",
    "            print(\"Are you sure you want to delete protein \"+str(dropdown_proteins.value)+\"?\")\n",
    "            link_list=find_links(links, rm_p)\n",
    "            if len(link_list)!=0:\n",
    "                print(\"Removing it will cause also the removal of the following links:\")\n",
    "                for l in link_list:\n",
    "                    print(str(l))\n",
    "    elif choice_w.value==4:\n",
    "        rm_p1=find_protein(mygraph.proteins, text_p1_link.value)\n",
    "        rm_p2=find_protein(mygraph.proteins, text_p2_link.value)\n",
    "        rm_l=Link(rm_p1, rm_p2)\n",
    "        if rm_l not in links:\n",
    "            print(\"\\033[91mLink from \"+str(text_p1_link.value)+\" to \"+str(text_p2_link.value)+\" not in links list.\\033[0m\")\n",
    "            choose_action()\n",
    "        else:\n",
    "            print(\"Are you sure you want to delete the link between \"+str(text_p1_link.value)+\" and \"+str(text_p2_link.value)+\"?\")\n",
    "    items = [widgets.Button(description=\"Yes\"), widgets.Button(description=\"No\")]\n",
    "    items[0].on_click(yes_remove_click)\n",
    "    items[1].on_click(no_remove_click)\n",
    "    display(widgets.Box(items))  \n",
    "        \n",
    "#Function called when the button is pressed to add link or protein\n",
    "def on_click(click):\n",
    "    if choice_w.value==1:\n",
    "        new_p=Protein(_id=len(mygraph.proteins), _name=text_p_name.value, _color=color_w.value, _description=text_description.value)\n",
    "        (nxG, pL)=mygraph.add_protein(new_p)\n",
    "        if nxG==None and pL==None:\n",
    "            print(\"\\033[91mProtein \"+new_p.name+\" already in list.\\033[0m\")\n",
    "        else:\n",
    "            print(\"\\033[94mProtein \"+new_p.name+\" added.\\033[0m\")\n",
    "        choose_Action()\n",
    "    if choice_w.value==2:\n",
    "        P1=find_protein(proteins, text_p1_link.value)\n",
    "        P2=find_protein(proteins, text_p2_link.value)\n",
    "        if P1==None or P2==None:\n",
    "            if P1==None:\n",
    "                print(\"\\033[91mProtein \"+text_p1_link.value+\" does not exist, cannot create link from \"+text_p1_link.value+\" to \"+text_p2_link.value+\".\\033[0m\")\n",
    "            if P2==None:\n",
    "                print(\"\\033[91mProtein \"+text_p2_link.value+\" does not exist, cannot create link from \"+text_p1_link.value+\" to \"+text_p2_link.value+\".\\033[0m\")\n",
    "        else:\n",
    "            new_l=Link(_p1=P1, _p2=P2, _description=text_description.value, _color=color_w.value)\n",
    "            if new_l not in links:\n",
    "                links.append(new_l)\n",
    "                print(\"\\033[94mLink from \"+str(new_l.p1)+\" to \"+str(new_l.p2)+\" added.\\033[0m\")\n",
    "            else:\n",
    "                print(\"\\033[91mLink from \"+str(new_l.p1)+\" to \"+str(new_l.p2)+\" already in list.\\033[0m\")\n",
    "        choose_action()\n",
    "    if choice_w.value==3:\n",
    "        pass\n",
    "\n",
    "def yes_remove_click(click):\n",
    "    global mygraph\n",
    "    if choice_w.value==3:\n",
    "        graph.remove_links(graph.find_links(graph.find_protein(dropdown_proteins.value)))\n",
    "        graph.remove_protein(dropdown_proteins.value)\n",
    "    elif choice_w.value==4:\n",
    "        graph.remove_link_with_ps(text_p1_link.value, text_p2_link.value)\n",
    "        \n",
    "def no_remove_click(click):\n",
    "    choose_action()\n",
    "    \n",
    "choice_w.observe(on_change)\n",
    "button_w.on_click(on_click)\n",
    "button_remove_w.on_click(on_click_warning)\n",
    "\n",
    "def choose_action(clear=True):\n",
    "    global mygraph\n",
    "    mygraph.write_graph()\n",
    "    if clear:\n",
    "        clear_output()\n",
    "    print(\"Using graph: \"+mygraph.name)\n",
    "    print(\"Choose what to do: \")\n",
    "    display(choice_w)\n",
    "    choice=choice_w.value\n",
    "    if choice in [1, 2]: #Add protein or link\n",
    "        if choice==1:\n",
    "            print(\"Insert the data for the new protein:\")\n",
    "            display(text_p_name)\n",
    "        else:\n",
    "            print(\"Insert the data for the new link:\")\n",
    "            text_p1_link.options=sorted(mygraph.proteins)\n",
    "            text_p2_link.options=sorted(mygraph.proteins)\n",
    "            display(text_p1_link)\n",
    "            display(text_p2_link)\n",
    "        display(color_w)\n",
    "        display(text_description)\n",
    "        display(button_w)\n",
    "    elif choice in [3, 4]: #Remove protein or link\n",
    "        if choice==3:\n",
    "            print(\"Insert the name of the protein to remove:\")\n",
    "            display(dropdown_proteins)            \n",
    "        else:\n",
    "            print(\"Insert the name of the proteins ad the edges of the link:\")\n",
    "            text_p1_link.options=sorted(mygraph.proteins)\n",
    "            text_p2_link.options=sorted(mygraph.proteins)\n",
    "            display(text_p1_link)\n",
    "            display(text_p2_link)\n",
    "        display(button_remove_w)\n",
    "    elif choice in [5, 6, 7]: #List elements\n",
    "        if choice==5: #List the proteins with their links\n",
    "            if len(mygraph.proteins)==0:\n",
    "                print([])\n",
    "            for p in mygraph.proteins:\n",
    "                print(str(p))\n",
    "                link_list=graph.find_links(graph.find_protein(p))\n",
    "                for l in link_list:\n",
    "                    print(\"\\t\"+str(l))\n",
    "                print()\n",
    "        elif choice==6: #List the links\n",
    "            printL(mygraph.links)\n",
    "        elif choice==7: #List the proteins and the links\n",
    "            proteins_s=\"\"\n",
    "            for p in mygraph.proteins:\n",
    "                proteins_s+=str(p)+\"\\n\"\n",
    "            links_s=\"\"\n",
    "            for l in mygraph.links:\n",
    "                links_s+=str(l)+\"\\n\"\n",
    "            display(widgets.Box([widgets.Textarea(value=proteins_s), widgets.Textarea(value=links_s)]))     \n",
    "    \n",
    "    \n",
    "    "
   ]
  },
  {
   "cell_type": "code",
   "execution_count": 2,
   "metadata": {},
   "outputs": [],
   "source": [
    "import networkx as nx\n",
    "G=nx.Graph()"
   ]
  },
  {
   "cell_type": "code",
   "execution_count": 3,
   "metadata": {},
   "outputs": [],
   "source": [
    "from ipywidgets import widgets\n",
    "from IPython.display import display, clear_output\n",
    "from os import listdir\n",
    "from time import sleep\n",
    "from os import write\n",
    "\n",
    "init_choice_w=widgets.Dropdown(options=[\n",
    "    (\"Create new graph\", 1),\n",
    "    (\"Start from last graph\", 2),\n",
    "    (\"Open graph\", 3),\n",
    "    ], value=2)\n",
    "next_button_w=widgets.Button(description=\"Next\", icon=\"check\")\n",
    "file_chooser_w=widgets.FileUpload()\n",
    "error=\"\"\n",
    "\n",
    "def on_change_init(change):\n",
    "    global error\n",
    "    clear_output(wait=True)\n",
    "    if error!=\"\":\n",
    "        print(error)\n",
    "    display(init_choice_w)\n",
    "    if init_choice_w.value==1:\n",
    "        display(graph_title)\n",
    "    elif init_choice_w.value==2:\n",
    "        pass\n",
    "    elif init_choice_w.value==3:\n",
    "        display(file_chooser_w)\n",
    "    display(next_button_w)\n",
    "        \n",
    "def on_click_next(click):\n",
    "    global mygraph \n",
    "    global error\n",
    "    graph_name=\"\"\n",
    "    succed=True\n",
    "    if init_choice_w.value==1: #Create new graph\n",
    "        graph_name=graph_title.value\n",
    "        file_list=listdir(\"saved\")\n",
    "        if graph_name in file_list or (graph_name+\".graphml\") in file_list:\n",
    "            error=\"\\033[91mFile \"+graph_name+\" already present, please choose another name or open the file manually.\\033[0m\"\n",
    "            succed=False\n",
    "        else:\n",
    "            mygraph=graph.Graph(graph_name)\n",
    "    elif init_choice_w.value==2: #Open last graph\n",
    "        try:\n",
    "            with open(\".last\") as f:\n",
    "                graph_name=f.readline()\n",
    "                mygraph.open_graph(graph_name)\n",
    "        except:\n",
    "            error=\"\\033[91mNo last file present, please insert new name or manually choose file to open.\\033[0m\"\n",
    "            succed=False\n",
    "    elif init_choice_w.value==3: #Open chosen graph\n",
    "        graph_name=\"\"\n",
    "        i=0\n",
    "        for key in file_chooser_w.value: #Widget is broken so I have to so this loop..........\n",
    "            if i==0:\n",
    "                graph_name=key\n",
    "                i+=1\n",
    "        mygraph.open_graph(graph_name)\n",
    "    if succed:\n",
    "        with open(\".last\", \"w+\") as f:\n",
    "            f.write(graph_name)\n",
    "        choose_action()\n",
    "    else:\n",
    "        first_menu()\n",
    "    \n",
    "init_choice_w.observe(on_change_init)\n",
    "next_button_w.on_click(on_click_next)\n",
    "\n",
    "def first_menu():\n",
    "    on_change_init(None)\n",
    "    \n",
    "\n"
   ]
  },
  {
   "cell_type": "code",
   "execution_count": 4,
   "metadata": {},
   "outputs": [
    {
     "name": "stdout",
     "output_type": "stream",
     "text": [
      "Using graph: nuovografo1.graphml\n",
      "Choose what to do: \n"
     ]
    },
    {
     "data": {
      "application/vnd.jupyter.widget-view+json": {
       "model_id": "00cf46bcc4604de0a52d06136352c7d2",
       "version_major": 2,
       "version_minor": 0
      },
      "text/plain": [
       "Dropdown(options=(('Add protein', 1), ('Add link', 2), ('Remove protein', 3), ('Remove link', 4), ('List prote…"
      ]
     },
     "metadata": {},
     "output_type": "display_data"
    },
    {
     "name": "stdout",
     "output_type": "stream",
     "text": [
      "Insert the data for the new protein:\n"
     ]
    },
    {
     "data": {
      "application/vnd.jupyter.widget-view+json": {
       "model_id": "34cf8da0d82d472f982c529359784aa7",
       "version_major": 2,
       "version_minor": 0
      },
      "text/plain": [
       "Text(value='', description='Name: ')"
      ]
     },
     "metadata": {},
     "output_type": "display_data"
    },
    {
     "data": {
      "application/vnd.jupyter.widget-view+json": {
       "model_id": "1ddbe3e55dc74a68b08e229b9f6a415f",
       "version_major": 2,
       "version_minor": 0
      },
      "text/plain": [
       "ColorPicker(value='black', description='Color: ')"
      ]
     },
     "metadata": {},
     "output_type": "display_data"
    },
    {
     "data": {
      "application/vnd.jupyter.widget-view+json": {
       "model_id": "0abe3e4e844c4bd7897e4241af9613e8",
       "version_major": 2,
       "version_minor": 0
      },
      "text/plain": [
       "Text(value='', description='Description: ')"
      ]
     },
     "metadata": {},
     "output_type": "display_data"
    },
    {
     "data": {
      "application/vnd.jupyter.widget-view+json": {
       "model_id": "6d942179e75a4ac3b4301dc1847885e9",
       "version_major": 2,
       "version_minor": 0
      },
      "text/plain": [
       "Button(description='Save', icon='check', style=ButtonStyle())"
      ]
     },
     "metadata": {},
     "output_type": "display_data"
    },
    {
     "ename": "AttributeError",
     "evalue": "'GraphLib' object has no attribute 'create_nxGgraph'",
     "output_type": "error",
     "traceback": [
      "\u001b[0;31m---------------------------------------------------------------------------\u001b[0m",
      "\u001b[0;31mAttributeError\u001b[0m                            Traceback (most recent call last)",
      "\u001b[0;32m<ipython-input-1-8d99a3b4d94a>\u001b[0m in \u001b[0;36mon_click\u001b[0;34m(click)\u001b[0m\n\u001b[1;32m     73\u001b[0m     \u001b[0;32mif\u001b[0m \u001b[0mchoice_w\u001b[0m\u001b[0;34m.\u001b[0m\u001b[0mvalue\u001b[0m\u001b[0;34m==\u001b[0m\u001b[0;36m1\u001b[0m\u001b[0;34m:\u001b[0m\u001b[0;34m\u001b[0m\u001b[0;34m\u001b[0m\u001b[0m\n\u001b[1;32m     74\u001b[0m         \u001b[0mnew_p\u001b[0m\u001b[0;34m=\u001b[0m\u001b[0mProtein\u001b[0m\u001b[0;34m(\u001b[0m\u001b[0m_id\u001b[0m\u001b[0;34m=\u001b[0m\u001b[0mlen\u001b[0m\u001b[0;34m(\u001b[0m\u001b[0mmygraph\u001b[0m\u001b[0;34m.\u001b[0m\u001b[0mproteins\u001b[0m\u001b[0;34m)\u001b[0m\u001b[0;34m,\u001b[0m \u001b[0m_name\u001b[0m\u001b[0;34m=\u001b[0m\u001b[0mtext_p_name\u001b[0m\u001b[0;34m.\u001b[0m\u001b[0mvalue\u001b[0m\u001b[0;34m,\u001b[0m \u001b[0m_color\u001b[0m\u001b[0;34m=\u001b[0m\u001b[0mcolor_w\u001b[0m\u001b[0;34m.\u001b[0m\u001b[0mvalue\u001b[0m\u001b[0;34m,\u001b[0m \u001b[0m_description\u001b[0m\u001b[0;34m=\u001b[0m\u001b[0mtext_description\u001b[0m\u001b[0;34m.\u001b[0m\u001b[0mvalue\u001b[0m\u001b[0;34m)\u001b[0m\u001b[0;34m\u001b[0m\u001b[0;34m\u001b[0m\u001b[0m\n\u001b[0;32m---> 75\u001b[0;31m         \u001b[0;34m(\u001b[0m\u001b[0mnxG\u001b[0m\u001b[0;34m,\u001b[0m \u001b[0mpL\u001b[0m\u001b[0;34m)\u001b[0m\u001b[0;34m=\u001b[0m\u001b[0mmygraph\u001b[0m\u001b[0;34m.\u001b[0m\u001b[0madd_protein\u001b[0m\u001b[0;34m(\u001b[0m\u001b[0mnew_p\u001b[0m\u001b[0;34m)\u001b[0m\u001b[0;34m\u001b[0m\u001b[0;34m\u001b[0m\u001b[0m\n\u001b[0m\u001b[1;32m     76\u001b[0m         \u001b[0;32mif\u001b[0m \u001b[0mnxG\u001b[0m\u001b[0;34m==\u001b[0m\u001b[0;32mNone\u001b[0m \u001b[0;32mand\u001b[0m \u001b[0mpL\u001b[0m\u001b[0;34m==\u001b[0m\u001b[0;32mNone\u001b[0m\u001b[0;34m:\u001b[0m\u001b[0;34m\u001b[0m\u001b[0;34m\u001b[0m\u001b[0m\n\u001b[1;32m     77\u001b[0m             \u001b[0mprint\u001b[0m\u001b[0;34m(\u001b[0m\u001b[0;34m\"\\033[91mProtein \"\u001b[0m\u001b[0;34m+\u001b[0m\u001b[0mnew_p\u001b[0m\u001b[0;34m.\u001b[0m\u001b[0mname\u001b[0m\u001b[0;34m+\u001b[0m\u001b[0;34m\" already in list.\\033[0m\"\u001b[0m\u001b[0;34m)\u001b[0m\u001b[0;34m\u001b[0m\u001b[0;34m\u001b[0m\u001b[0m\n",
      "\u001b[0;32m~/Desktop/biographs/graph.py\u001b[0m in \u001b[0;36madd_protein\u001b[0;34m(self, new_p)\u001b[0m\n\u001b[1;32m     69\u001b[0m         \u001b[0;32mif\u001b[0m \u001b[0mnew_p\u001b[0m \u001b[0;32mnot\u001b[0m \u001b[0;32min\u001b[0m \u001b[0mself\u001b[0m\u001b[0;34m.\u001b[0m\u001b[0mproteins\u001b[0m\u001b[0;34m:\u001b[0m\u001b[0;34m\u001b[0m\u001b[0;34m\u001b[0m\u001b[0m\n\u001b[1;32m     70\u001b[0m             \u001b[0mself\u001b[0m\u001b[0;34m.\u001b[0m\u001b[0mproteins\u001b[0m\u001b[0;34m.\u001b[0m\u001b[0mappend\u001b[0m\u001b[0;34m(\u001b[0m\u001b[0mnew_p\u001b[0m\u001b[0;34m)\u001b[0m\u001b[0;34m\u001b[0m\u001b[0;34m\u001b[0m\u001b[0m\n\u001b[0;32m---> 71\u001b[0;31m             \u001b[0mself\u001b[0m\u001b[0;34m.\u001b[0m\u001b[0mcreate_nxGgraph\u001b[0m\u001b[0;34m(\u001b[0m\u001b[0;34m)\u001b[0m\u001b[0;34m\u001b[0m\u001b[0;34m\u001b[0m\u001b[0m\n\u001b[0m\u001b[1;32m     72\u001b[0m             \u001b[0;32mreturn\u001b[0m\u001b[0;34m(\u001b[0m\u001b[0mself\u001b[0m\u001b[0;34m.\u001b[0m\u001b[0mG\u001b[0m\u001b[0;34m,\u001b[0m \u001b[0mself\u001b[0m\u001b[0;34m.\u001b[0m\u001b[0mproteins\u001b[0m\u001b[0;34m)\u001b[0m\u001b[0;34m\u001b[0m\u001b[0;34m\u001b[0m\u001b[0m\n\u001b[1;32m     73\u001b[0m         \u001b[0;32melse\u001b[0m\u001b[0;34m:\u001b[0m\u001b[0;34m\u001b[0m\u001b[0;34m\u001b[0m\u001b[0m\n",
      "\u001b[0;31mAttributeError\u001b[0m: 'GraphLib' object has no attribute 'create_nxGgraph'"
     ]
    }
   ],
   "source": [
    "first_menu()"
   ]
  },
  {
   "cell_type": "code",
   "execution_count": null,
   "metadata": {},
   "outputs": [],
   "source": [
    "GD=display(display_id=\"graph\")\n",
    "GD.display(None)"
   ]
  },
  {
   "cell_type": "code",
   "execution_count": null,
   "metadata": {},
   "outputs": [],
   "source": [
    "G.add_node(1)\n",
    "G.add_node(2)\n",
    "G.add_node(3)\n",
    "G.add_node(4)"
   ]
  },
  {
   "cell_type": "code",
   "execution_count": null,
   "metadata": {},
   "outputs": [],
   "source": [
    "G.add_edge(1,2)"
   ]
  },
  {
   "cell_type": "code",
   "execution_count": null,
   "metadata": {},
   "outputs": [],
   "source": [
    "write_graph(G, G.graph[\"title\"])"
   ]
  },
  {
   "cell_type": "code",
   "execution_count": null,
   "metadata": {},
   "outputs": [],
   "source": [
    "G=nx.Graph()"
   ]
  },
  {
   "cell_type": "code",
   "execution_count": null,
   "metadata": {},
   "outputs": [],
   "source": [
    "G=open_graph(\"prova1\")"
   ]
  },
  {
   "cell_type": "code",
   "execution_count": null,
   "metadata": {},
   "outputs": [],
   "source": [
    "for n in G.nodes:\n",
    "    print(type(n))\n",
    "G.nodes"
   ]
  },
  {
   "cell_type": "code",
   "execution_count": null,
   "metadata": {},
   "outputs": [],
   "source": [
    "G1=nx.Graph()\n",
    "G1.add_node(1, Description=\"Ciao bellissima proteina\")\n",
    "for i in G1.nodes:\n",
    "    print(G1.nodes[i]['Description'])\n"
   ]
  },
  {
   "cell_type": "code",
   "execution_count": null,
   "metadata": {},
   "outputs": [],
   "source": []
  }
 ],
 "metadata": {
  "kernelspec": {
   "display_name": "Python 3",
   "language": "python",
   "name": "python3"
  },
  "language_info": {
   "codemirror_mode": {
    "name": "ipython",
    "version": 3
   },
   "file_extension": ".py",
   "mimetype": "text/x-python",
   "name": "python",
   "nbconvert_exporter": "python",
   "pygments_lexer": "ipython3",
   "version": "3.8.5"
  }
 },
 "nbformat": 4,
 "nbformat_minor": 4
}
