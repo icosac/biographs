{
 "cells": [
  {
   "cell_type": "code",
   "execution_count": null,
   "metadata": {},
   "outputs": [],
   "source": [
    "from protein import Protein"
   ]
  },
  {
   "cell_type": "code",
   "execution_count": null,
   "metadata": {},
   "outputs": [],
   "source": [
    "import numpy as np\n",
    "import pandas as pd\n",
    "import holoviews as hv\n",
    "import networkx as nx\n",
    "from holoviews import opts\n",
    "\n",
    "hv.extension('bokeh')\n",
    "\n",
    "defaults = dict(width=400, height=400)\n",
    "hv.opts.defaults(opts.EdgePaths(**defaults), opts.Graph(**defaults), opts.Nodes(**defaults))"
   ]
  },
  {
   "cell_type": "code",
   "execution_count": null,
   "metadata": {},
   "outputs": [],
   "source": [
    "N = 8\n",
    "node_indices = np.arange(N, dtype=np.int32)\n",
    "source = np.zeros(N, dtype=np.int32)\n",
    "target = node_indices\n",
    "\n",
    "print(source)\n",
    "print(target)\n",
    "\n",
    "simple_graph = hv.Graph(((source, target),))\n",
    "simple_graph.opts(inspection_policy='edges')"
   ]
  },
  {
   "cell_type": "code",
   "execution_count": null,
   "metadata": {},
   "outputs": [],
   "source": []
  },
  {
   "cell_type": "code",
   "execution_count": 1,
   "metadata": {},
   "outputs": [],
   "source": [
    "from ipywidgets import widgets\n",
    "from IPython.display import display, clear_output"
   ]
  },
  {
   "cell_type": "code",
   "execution_count": 2,
   "metadata": {},
   "outputs": [
    {
     "name": "stdout",
     "output_type": "stream",
     "text": [
      "Choose what to add: \n"
     ]
    },
    {
     "data": {
      "application/vnd.jupyter.widget-view+json": {
       "model_id": "b29d17a53dd54425aaed3bc47624129c",
       "version_major": 2,
       "version_minor": 0
      },
      "text/plain": [
       "Dropdown(index=1, options=(('Protein', 1), ('Link', 2)), value=2)"
      ]
     },
     "metadata": {},
     "output_type": "display_data"
    },
    {
     "name": "stdout",
     "output_type": "stream",
     "text": [
      "Insert the data for the new link:\n"
     ]
    },
    {
     "data": {
      "application/vnd.jupyter.widget-view+json": {
       "model_id": "4b86658729b342e7a0d6772261b1e687",
       "version_major": 2,
       "version_minor": 0
      },
      "text/plain": [
       "Dropdown(description='From: ', options=(<protein.Protein object at 0x1083e89a0>, <protein.Protein object at 0x…"
      ]
     },
     "metadata": {},
     "output_type": "display_data"
    },
    {
     "data": {
      "application/vnd.jupyter.widget-view+json": {
       "model_id": "4645d19073bb40d682750a28f563cb87",
       "version_major": 2,
       "version_minor": 0
      },
      "text/plain": [
       "Dropdown(description='To: ', options=(<protein.Protein object at 0x1083e89a0>, <protein.Protein object at 0x10…"
      ]
     },
     "metadata": {},
     "output_type": "display_data"
    },
    {
     "data": {
      "application/vnd.jupyter.widget-view+json": {
       "model_id": "75888ae4d7fa4158a858c0e5f85e35fd",
       "version_major": 2,
       "version_minor": 0
      },
      "text/plain": [
       "ColorPicker(value='#a663a9', description='Color: ')"
      ]
     },
     "metadata": {},
     "output_type": "display_data"
    },
    {
     "data": {
      "application/vnd.jupyter.widget-view+json": {
       "model_id": "9f470f399a5144f6b203920369b92500",
       "version_major": 2,
       "version_minor": 0
      },
      "text/plain": [
       "Text(value='', description='Description: ')"
      ]
     },
     "metadata": {},
     "output_type": "display_data"
    },
    {
     "data": {
      "application/vnd.jupyter.widget-view+json": {
       "model_id": "be26d246b2484d6ca2e41119086e341a",
       "version_major": 2,
       "version_minor": 0
      },
      "text/plain": [
       "Button(icon='check', style=ButtonStyle())"
      ]
     },
     "metadata": {},
     "output_type": "display_data"
    }
   ],
   "source": [
    "from protein import Protein\n",
    "from link import Link\n",
    "\n",
    "def printL(l):\n",
    "    print(\"[\", end=\"\")\n",
    "    for e in l:\n",
    "        print(str(e), end=\", \")\n",
    "    print(\"]\")\n",
    "    \n",
    "def findProtein(proteins, p1):\n",
    "    for p in proteins:\n",
    "        if p==p1:\n",
    "            return p\n",
    "    return None\n",
    "\n",
    "proteins=[Protein(\"ciao\"), Protein(\"ciao1\")]\n",
    "links=[Link(proteins[0], proteins[1])]\n",
    "\n",
    "choice_w=widgets.Dropdown(options=[(\"Protein\", 1), (\"Link\", 2)], value=1)\n",
    "text_p_name=widgets.Text(description=\"Name: \")\n",
    "text_description=widgets.Text(description=\"Description: \")\n",
    "color_w=widgets.ColorPicker(concise=False, value=\"black\", description=\"Color: \")\n",
    "text_p1_link=widgets.Dropdown(options=sorted(proteins), description=\"From: \")\n",
    "text_p2_link=widgets.Dropdown(options=sorted(proteins), description=\"To: \")\n",
    "button_w=widgets.Button(icon=\"check\")\n",
    "\n",
    "def on_change(change):\n",
    "    if change['name']=='value':\n",
    "        displayAll()\n",
    "\n",
    "def on_click(click):\n",
    "    if choice_w.value==1:\n",
    "        new_p=Protein(_name=text_p_name.value, _color=color_w.value, _description=text_description.value)\n",
    "        if new_p not in proteins:\n",
    "            proteins.append(new_p)\n",
    "        else:\n",
    "            displayAll()\n",
    "            print(\"\\033[91mProtein \"+new_p.name+\" already in list.\\033[0m\")\n",
    "    if choice_w.value==2:\n",
    "        P1=findProtein(proteins, text_p1_link.value)\n",
    "        P2=findProtein(proteins, text_p2_link.value)\n",
    "        new_l=Link(_p1=P1, _p2=P2, _description=text_description.value, _color=color_w.value)\n",
    "        if new_l not in links:\n",
    "            links.append(new_l)\n",
    "        else:\n",
    "            print(\"\\033[91mLink from \"+str(new_l.p1)+\" to: \"+str(new_l.p2)+\" already in list.\\033[0m\")\n",
    "\n",
    "def displayAll(choice=0):\n",
    "    clear_output(wait=True)\n",
    "    print(\"Choose what to add: \")\n",
    "    display(choice_w)\n",
    "    if choice==0:\n",
    "        choice=choice_w.value\n",
    "    if choice==1:\n",
    "        print(\"Insert the data for the new protein:\")\n",
    "        display(text_p_name)\n",
    "    else:\n",
    "        print(\"Insert the data for the new link:\")\n",
    "        text_p1_link.options=sorted(proteins)\n",
    "        text_p2_link.options=sorted(proteins)\n",
    "        display(text_p1_link)\n",
    "        display(text_p2_link)\n",
    "    display(color_w)\n",
    "    display(text_description)\n",
    "    display(button_w)\n",
    "        \n",
    "choice_w.observe(on_change)\n",
    "button_w.on_click(on_click)\n",
    "\n",
    "displayAll()"
   ]
  },
  {
   "cell_type": "code",
   "execution_count": null,
   "metadata": {},
   "outputs": [],
   "source": []
  },
  {
   "cell_type": "code",
   "execution_count": null,
   "metadata": {},
   "outputs": [],
   "source": []
  }
 ],
 "metadata": {
  "kernelspec": {
   "display_name": "Python 3",
   "language": "python",
   "name": "python3"
  },
  "language_info": {
   "codemirror_mode": {
    "name": "ipython",
    "version": 3
   },
   "file_extension": ".py",
   "mimetype": "text/x-python",
   "name": "python",
   "nbconvert_exporter": "python",
   "pygments_lexer": "ipython3",
   "version": "3.8.5"
  }
 },
 "nbformat": 4,
 "nbformat_minor": 4
}
